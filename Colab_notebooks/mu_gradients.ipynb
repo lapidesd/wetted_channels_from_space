{
  "nbformat": 4,
  "nbformat_minor": 0,
  "metadata": {
    "colab": {
      "provenance": [],
      "collapsed_sections": [],
      "include_colab_link": true
    },
    "kernelspec": {
      "name": "python3",
      "display_name": "Python 3"
    },
    "language_info": {
      "name": "python"
    }
  },
  "cells": [
    {
      "cell_type": "markdown",
      "metadata": {
        "id": "view-in-github",
        "colab_type": "text"
      },
      "source": [
        "<a href=\"https://colab.research.google.com/github/lapidesd/wetted_channels_from_space/blob/main/Colab_notebooks/mu_gradients.ipynb\" target=\"_parent\"><img src=\"https://colab.research.google.com/assets/colab-badge.svg\" alt=\"Open In Colab\"/></a>"
      ]
    },
    {
      "cell_type": "code",
      "execution_count": 1,
      "metadata": {
        "id": "HYqEp4JGLddB"
      },
      "outputs": [],
      "source": [
        "import pandas as pd\n",
        "import matplotlib.pyplot as plt\n",
        "import seaborn as sns\n",
        "import time\n",
        "import numpy as np\n",
        "import math\n",
        "import matplotlib.ticker as ticker\n",
        "import matplotlib\n",
        "%config InlineBackend.figure_format='retina'\n",
        "from google.colab import files\n",
        "from shapely.geometry import Point\n",
        "from numpy import random\n",
        "from scipy.spatial import distance"
      ]
    },
    {
      "cell_type": "code",
      "source": [
        "!pip install -q geopandas\n",
        "!pip install -q gdown\n",
        "import geopandas as gp\n",
        "import gdown"
      ],
      "metadata": {
        "id": "mEIan64BSE1o",
        "colab": {
          "base_uri": "https://localhost:8080/"
        },
        "outputId": "fc5fb174-720b-4ca0-bf35-fd8c2a719a9e"
      },
      "execution_count": 2,
      "outputs": [
        {
          "output_type": "stream",
          "name": "stdout",
          "text": [
            "\u001b[K     |████████████████████████████████| 1.0 MB 7.0 MB/s \n",
            "\u001b[K     |████████████████████████████████| 6.3 MB 46.8 MB/s \n",
            "\u001b[K     |████████████████████████████████| 16.7 MB 43.1 MB/s \n",
            "\u001b[?25h"
          ]
        }
      ]
    },
    {
      "cell_type": "markdown",
      "source": [
        "# Load runoff data"
      ],
      "metadata": {
        "id": "1TBf7VDWcP3o"
      }
    },
    {
      "cell_type": "code",
      "source": [
        "id = '1_wasEy1N5Nkq7_vBukG5_pnLS-4Dq8Ch'\n",
        "url = 'https://drive.google.com/uc?id=%s'%id\n",
        "output = 'level4e.csv'\n",
        "gdown.download(url, output, quiet=False)\n",
        "level4e = pd.read_csv(output,parse_dates=True,index_col=0)\n",
        "dry_runoff = level4e['dryRunoff_mmDay^-1']\n",
        "dry_runoff = dry_runoff.resample('1D').mean()"
      ],
      "metadata": {
        "colab": {
          "base_uri": "https://localhost:8080/"
        },
        "id": "zKOyTfMCLk8F",
        "outputId": "b9fef95c-55d6-4d15-ddc2-e372a6385fc4"
      },
      "execution_count": 3,
      "outputs": [
        {
          "output_type": "stream",
          "name": "stderr",
          "text": [
            "Downloading...\n",
            "From: https://drive.google.com/uc?id=1_wasEy1N5Nkq7_vBukG5_pnLS-4Dq8Ch\n",
            "To: /content/level4e.csv\n",
            "100%|██████████| 92.2M/92.2M [00:00<00:00, 97.3MB/s]\n"
          ]
        }
      ]
    },
    {
      "cell_type": "markdown",
      "source": [
        "# Load random forest predictions and geospatial data"
      ],
      "metadata": {
        "id": "_B2RmfmbcU1X"
      }
    },
    {
      "cell_type": "code",
      "source": [
        "# flow capacity predictions\n",
        "id = '1BBe4XY3hY7WgjkG9pDkaeUkGqxuTtQRU'\n",
        "url = 'https://drive.google.com/uc?id=%s'%id\n",
        "output = 'mu_predictions.csv'\n",
        "gdown.download(url, output, quiet=False)\n",
        "temp = pd.read_csv(output)\n",
        "temp.loc[temp.mu<=0,'mu'] = np.nan\n",
        "temp.loc[temp.mu>90,'mu'] = np.nan\n",
        "\n",
        "# geomorphic channel point locations\n",
        "id = '148fowPhGXmm5ReUq5vEl9RB4U81j8uqB'\n",
        "url = 'https://drive.google.com/uc?id=%s'%id\n",
        "output = 'geomorph_pts.csv'\n",
        "gdown.download(url, output, quiet=False)\n",
        "\n",
        "# merge dataframes\n",
        "g2 = pd.read_csv(output)\n",
        "g2 = g2[['area_updated','x','y','ARCID','TO_NODE','FROM_NODE','Length']]\n",
        "g2.x = g2.x.astype(float)\n",
        "g2.y = g2.y.astype(float)\n",
        "g2.ARCID = g2.ARCID.astype(float)\n",
        "g2.area_updated = pd.to_numeric(g2.area_updated,errors='coerce')\n",
        "df = g2.merge(temp,on=['x','y'])\n",
        "df['id'] = range(len(df))"
      ],
      "metadata": {
        "id": "tHbktUL5Lzqh",
        "colab": {
          "base_uri": "https://localhost:8080/"
        },
        "outputId": "419d5b7b-ec3f-4c11-d492-6c7f1e55f04e"
      },
      "execution_count": 4,
      "outputs": [
        {
          "output_type": "stream",
          "name": "stderr",
          "text": [
            "Downloading...\n",
            "From: https://drive.google.com/uc?id=1BBe4XY3hY7WgjkG9pDkaeUkGqxuTtQRU\n",
            "To: /content/mu_predictions.csv\n",
            "100%|██████████| 424k/424k [00:00<00:00, 47.7MB/s]\n",
            "Downloading...\n",
            "From: https://drive.google.com/uc?id=148fowPhGXmm5ReUq5vEl9RB4U81j8uqB\n",
            "To: /content/geomorph_pts.csv\n",
            "100%|██████████| 4.55M/4.55M [00:00<00:00, 94.0MB/s]\n"
          ]
        }
      ]
    },
    {
      "cell_type": "markdown",
      "source": [
        "# Calculate contributing areas for each 10 m reach, identify downstream direction and calculate flow capacity gradients"
      ],
      "metadata": {
        "id": "7Vy_dkRLcpE7"
      }
    },
    {
      "cell_type": "code",
      "source": [
        "# utm coordinates\n",
        "x = df.x.values\n",
        "y = df.y.values\n",
        "pts = [Point(x[i],y[i]) for i in range(len(x))]\n",
        "gdf = gp.GeoDataFrame(df,geometry=pts,crs='EPSG:4326')\n",
        "gdf = gdf.to_crs('EPSG:26910')\n",
        "xm = [item.x for item in gdf.geometry.values]\n",
        "ym = [item.y for item in gdf.geometry.values]\n",
        "df['xm'] = xm\n",
        "df['ym'] = ym\n",
        "\n",
        "def closest_node(node, nodes):\n",
        "  closest_index = distance.cdist([node], nodes).argmin()\n",
        "  return closest_index\n",
        "\n",
        "# find the closest downstream point for each point\n",
        "pts = np.vstack([df.xm.values,df.ym.values]).T\n",
        "areas = df.area_updated.values\n",
        "ids = df.id.values\n",
        "sortidx = np.argsort(areas)\n",
        "areas = areas[sortidx]\n",
        "pts = pts[sortidx,:]\n",
        "old_ids = ids[sortidx]\n",
        "ids = ids[sortidx]\n",
        "closest_ids = []\n",
        "for i in range(np.shape(pts)[0]-1):\n",
        "  some_pt = pts[0,:]\n",
        "  pts = pts[1:,:]\n",
        "  ids = ids[1:]\n",
        "  closest_id = ids[closest_node(some_pt,pts)]\n",
        "  closest_ids.append(closest_id)\n",
        "closest_ids.append(closest_ids[-1])\n",
        "closest_ids = np.array(closest_ids)\n",
        "unsort = np.argsort(old_ids)\n",
        "closest_ids = closest_ids[unsort]\n",
        "df['closest_id'] = closest_ids\n",
        "\n",
        "# calculate mu gradients and contributing areas\n",
        "grads = []\n",
        "dAs = []\n",
        "for i,row in df.iterrows():\n",
        "  mu2 = df.loc[df.id==row.closest_id].mu.values[0]\n",
        "  mu1 = row.mu\n",
        "  a2 = df.loc[df.id==row.closest_id].area_updated.values[0]\n",
        "  a1 = row.area_updated\n",
        "\n",
        "  #mm/day per 10 m\n",
        "  ddx_mu = (mu2 - mu1)\n",
        "\n",
        "  # m/s per 10 m\n",
        "  ddx_mu = ddx_mu*1.15741e-8\n",
        "\n",
        "  # m^3/s per m\n",
        "  ddx_mu = ddx_mu*row.area_updated/10.0\n",
        "  grads.append(ddx_mu)\n",
        "  dA = a2 - a1\n",
        "  dAs.append(dA)\n",
        "\n",
        "df['ddx_mu'] = grads\n",
        "df['dA'] = dAs"
      ],
      "metadata": {
        "id": "za7kzXZBctFc"
      },
      "execution_count": 5,
      "outputs": []
    },
    {
      "cell_type": "markdown",
      "source": [
        "# Across a range of flow values, use flow capacity gradients to estimate hyporheic exchange fluxes"
      ],
      "metadata": {
        "id": "Os2oYObmdB1E"
      }
    },
    {
      "cell_type": "code",
      "source": [
        "# flows and exceedances\n",
        "numpts = 500\n",
        "percs = np.array([np.quantile(dry_runoff,i/100.0) for i in np.linspace(0,100,numpts)])\n",
        "exc = 100 - np.linspace(0,100,numpts)\n",
        "idx = percs >= 0.01\n",
        "percs = percs[idx]\n",
        "exc = exc[idx]\n",
        "\n",
        "# plot Qhef:Q for range of Q\n",
        "f,ax = plt.subplots(figsize=(5.5,2.5))\n",
        "area = df.area_updated.max()/1000000.0\n",
        "temp = df.loc[df.area_updated<area*1000000]\n",
        "qhefs = []\n",
        "for runoff in percs:\n",
        "  tempdf = temp.loc[temp.mu<runoff]\n",
        "  exfil = np.abs(tempdf.loc[tempdf.ddx_mu<0].ddx_mu.mean())*len(tempdf.loc[tempdf.ddx_mu<0])*10\n",
        "  # volumetric groundwater \n",
        "  qvol = runoff*1.15741e-8*tempdf.dA\n",
        "  infil = tempdf.loc[tempdf.ddx_mu>0].ddx_mu*10 - qvol\n",
        "  infil = infil.loc[infil>0]\n",
        "  infil = infil.mean()*len(infil)\n",
        "  qhef = (exfil+infil)/2.0\n",
        "  qhefs.append(qhef)\n",
        "\n",
        "qhefs = np.array(qhefs)\n",
        "runoffs_volumetric =  percs*1.15741e-8*temp.area_updated.max()\n",
        "ratios = qhefs/runoffs_volumetric\n",
        "ratios[ratios==0] = np.nan\n",
        "sc = ax.scatter(exc,ratios,c=percs,s=8,norm=matplotlib.colors.LogNorm())\n",
        "cb = f.colorbar(sc)\n",
        "ax.set_ylabel(r'$\\mathrm{D_{hef}:D}$')\n",
        "ax.set_xlabel('Flow exceedance probability (percent)')\n",
        "ax.set_yscale('log')\n",
        "ax.set_ylim(1,1000)\n",
        "\n",
        "cb.set_label('Q (mm/day)')\n",
        "from matplotlib.ticker import StrMethodFormatter, NullFormatter\n",
        "ax.yaxis.set_major_formatter(StrMethodFormatter('{x:.0f}'))\n",
        "ax.yaxis.set_minor_formatter(NullFormatter())\n",
        "\n",
        "cb.ax.set_yticks([0.1,1,10,100])\n",
        "cb.ax.set_yticklabels(['0.1','1','10','100'],fontsize = 10)\n",
        "\n",
        "f.tight_layout()\n",
        "f.savefig('./Dhef.png',dpi=300)\n",
        "files.download('./Dhef.png')"
      ],
      "metadata": {
        "id": "eCeE-00EPYus",
        "colab": {
          "base_uri": "https://localhost:8080/",
          "height": 225
        },
        "outputId": "aaec42c9-92e1-4314-95c4-03a588257b2c"
      },
      "execution_count": 7,
      "outputs": [
        {
          "output_type": "stream",
          "name": "stderr",
          "text": [
            "/usr/local/lib/python3.7/dist-packages/ipykernel_launcher.py:41: UserWarning: Use the colorbar set_ticks() method instead.\n"
          ]
        },
        {
          "output_type": "display_data",
          "data": {
            "text/plain": [
              "<IPython.core.display.Javascript object>"
            ],
            "application/javascript": [
              "\n",
              "    async function download(id, filename, size) {\n",
              "      if (!google.colab.kernel.accessAllowed) {\n",
              "        return;\n",
              "      }\n",
              "      const div = document.createElement('div');\n",
              "      const label = document.createElement('label');\n",
              "      label.textContent = `Downloading \"${filename}\": `;\n",
              "      div.appendChild(label);\n",
              "      const progress = document.createElement('progress');\n",
              "      progress.max = size;\n",
              "      div.appendChild(progress);\n",
              "      document.body.appendChild(div);\n",
              "\n",
              "      const buffers = [];\n",
              "      let downloaded = 0;\n",
              "\n",
              "      const channel = await google.colab.kernel.comms.open(id);\n",
              "      // Send a message to notify the kernel that we're ready.\n",
              "      channel.send({})\n",
              "\n",
              "      for await (const message of channel.messages) {\n",
              "        // Send a message to notify the kernel that we're ready.\n",
              "        channel.send({})\n",
              "        if (message.buffers) {\n",
              "          for (const buffer of message.buffers) {\n",
              "            buffers.push(buffer);\n",
              "            downloaded += buffer.byteLength;\n",
              "            progress.value = downloaded;\n",
              "          }\n",
              "        }\n",
              "      }\n",
              "      const blob = new Blob(buffers, {type: 'application/binary'});\n",
              "      const a = document.createElement('a');\n",
              "      a.href = window.URL.createObjectURL(blob);\n",
              "      a.download = filename;\n",
              "      div.appendChild(a);\n",
              "      a.click();\n",
              "      div.remove();\n",
              "    }\n",
              "  "
            ]
          },
          "metadata": {}
        },
        {
          "output_type": "display_data",
          "data": {
            "text/plain": [
              "<IPython.core.display.Javascript object>"
            ],
            "application/javascript": [
              "download(\"download_cc91990f-6140-4739-96d6-ead521f5b05f\", \"Dhef.png\", 84463)"
            ]
          },
          "metadata": {}
        },
        {
          "output_type": "display_data",
          "data": {
            "text/plain": [
              "<Figure size 396x180 with 2 Axes>"
            ],
            "image/png": "[encoded data removed]"
          },
          "metadata": {
            "image/png": {
              "width": 382,
              "height": 171
            },
            "needs_background": "light"
          }
        }
      ]
    },
    {
      "cell_type": "markdown",
      "source": [
        "# Create frames for wetted extent video with decreasing Q"
      ],
      "metadata": {
        "id": "MqbFA9TqdnH2"
      }
    },
    {
      "cell_type": "code",
      "source": [
        "# store frames here\n",
        "!rm -r wetted_map\n",
        "!mkdir wetted_map\n",
        "\n",
        "from mpl_toolkits.axes_grid1.inset_locator import inset_axes\n",
        "\n",
        "Q = np.logspace(-2,1,100,base=10)\n",
        "Q = np.flipud(Q)\n",
        "counter = 0\n",
        "\n",
        "cmap = plt.cm.plasma#_r  # define the colormap\n",
        "# define the bins and normalize\n",
        "bounds = [0.01,0.03,0.1,0.3,1,3,10,]#20,30]\n",
        "norm = matplotlib.colors.BoundaryNorm(bounds, cmap.N)\n",
        "\n",
        "# for each Q, plot extent\n",
        "for q in Q:\n",
        "  wet = df.loc[df.mu<q].copy()\n",
        "  dry = df.loc[df.mu>=q].copy()\n",
        "\n",
        "  f,ax = plt.subplots(figsize=(7,4))\n",
        "  dry['mu'] = -1\n",
        "  ax.scatter(dry.x,dry.y,s=0,norm=norm,alpha=0)\n",
        "  cb = ax.scatter(wet.x,wet.y,c=wet.mu,s=2,norm=norm,cmap=cmap,edgecolor = 'None')\n",
        "  \n",
        "  # ax.set_title(str(date))\n",
        "  ax.xaxis.set_visible(False)\n",
        "  ax.yaxis.set_visible(False)\n",
        "\n",
        "  axins = inset_axes(ax, width=1.3, height=0.9, loc='lower left',\n",
        "                    borderpad = 3.)\n",
        "  n,bin,patches = axins.hist(df.mu,bins = np.logspace(-2,1.,20),fc='limegreen',ec='k',lw=0.5)\n",
        "  for i,patch in enumerate(patches): \n",
        "    patch.set_fc(cmap(norm(bin[i])))\n",
        "\n",
        "  top = np.max(n)\n",
        "  axins.plot([q,q],[0,top],c='k',ls='--')\n",
        "\n",
        "  if q>0.1:\n",
        "    axins.text(q,top*1.1,'Q = %.1f mm/day'%q,fontsize=8,**{'backgroundcolor':'w'})\n",
        "  else:\n",
        "    axins.text(q,top*1.1,'Q = %.2f mm/day'%q,fontsize=8,**{'backgroundcolor':'w'})\n",
        "\n",
        "  axins.set_xscale('log')\n",
        "  \n",
        "  axins.set_xlabel('Flow capacity [mm/d]')#,fontsize = 12)\n",
        "  axins.spines['right'].set_visible(False)\n",
        "  axins.spines['left'].set_visible(False)\n",
        "  axins.spines['top'].set_visible(False)\n",
        "  axins.set_yticks([])\n",
        "  axins.set_xticks([0.01,0.1,1,10])\n",
        "  axins.set_xticklabels(['0.01','0.1','1','10'],fontsize = 8)\n",
        "  axins.patch.set_alpha(0.6)\n",
        "  sns.despine(ax=ax,left=True,bottom=True)\n",
        "\n",
        "  cbar = plt.colorbar(cb,ax=ax,shrink=0.8)\n",
        "  cbar.set_label('[mm/day]')\n",
        "  cbar.set_label('Hyporheic flow capacity [mm/day]')\n",
        "\n",
        "\n",
        "  import numpy as np\n",
        "  import matplotlib.pyplot as plt\n",
        "  from mpl_toolkits.axes_grid1.anchored_artists import AnchoredSizeBar\n",
        "  import matplotlib.font_manager as fm\n",
        "  fontprops = fm.FontProperties(size=10)\n",
        "  scalebar = AnchoredSizeBar(ax.transData,\n",
        "                           0.0058*2, '1 km', 'lower right', \n",
        "                           pad=0.1,\n",
        "                           sep=4,\n",
        "                           color='black',\n",
        "                           frameon=False,\n",
        "                           size_vertical=.0002,\n",
        "                           fontproperties=fontprops)\n",
        "  ax.add_artist(scalebar)\n",
        "\n",
        "\n",
        "  f.savefig('/content/wetted_map/%s.png'%str(counter),dpi=300)\n",
        "  counter = counter + 1\n",
        "  plt.close(f)\n"
      ],
      "metadata": {
        "id": "kJ9zt3laIJlf"
      },
      "execution_count": 36,
      "outputs": []
    },
    {
      "cell_type": "markdown",
      "source": [
        "# Use ffmpeg to stitch frames together"
      ],
      "metadata": {
        "id": "Xb8n4nR-eCxa"
      }
    },
    {
      "cell_type": "code",
      "source": [
        "%%bash\n",
        "cd wetted_map\n",
        "ffmpeg -framerate 5 -i %d.png -c:v libx264 -r 30 recession.mp4"
      ],
      "metadata": {
        "colab": {
          "base_uri": "https://localhost:8080/"
        },
        "id": "RGBiCsujdEL4",
        "outputId": "b138bc57-fbba-448d-866d-44321da5fc9d"
      },
      "execution_count": 37,
      "outputs": [
        {
          "output_type": "stream",
          "name": "stderr",
          "text": [
            "ffmpeg version 3.4.11-0ubuntu0.1 Copyright (c) 2000-2022 the FFmpeg developers\n",
            "  built with gcc 7 (Ubuntu 7.5.0-3ubuntu1~18.04)\n",
            "  configuration: --prefix=/usr --extra-version=0ubuntu0.1 --toolchain=hardened --libdir=/usr/lib/x86_64-linux-gnu --incdir=/usr/include/x86_64-linux-gnu --enable-gpl --disable-stripping --enable-avresample --enable-avisynth --enable-gnutls --enable-ladspa --enable-libass --enable-libbluray --enable-libbs2b --enable-libcaca --enable-libcdio --enable-libflite --enable-libfontconfig --enable-libfreetype --enable-libfribidi --enable-libgme --enable-libgsm --enable-libmp3lame --enable-libmysofa --enable-libopenjpeg --enable-libopenmpt --enable-libopus --enable-libpulse --enable-librubberband --enable-librsvg --enable-libshine --enable-libsnappy --enable-libsoxr --enable-libspeex --enable-libssh --enable-libtheora --enable-libtwolame --enable-libvorbis --enable-libvpx --enable-libwavpack --enable-libwebp --enable-libx265 --enable-libxml2 --enable-libxvid --enable-libzmq --enable-libzvbi --enable-omx --enable-openal --enable-opengl --enable-sdl2 --enable-libdc1394 --enable-libdrm --enable-libiec61883 --enable-chromaprint --enable-frei0r --enable-libopencv --enable-libx264 --enable-shared\n",
            "  libavutil      55. 78.100 / 55. 78.100\n",
            "  libavcodec     57.107.100 / 57.107.100\n",
            "  libavformat    57. 83.100 / 57. 83.100\n",
            "  libavdevice    57. 10.100 / 57. 10.100\n",
            "  libavfilter     6.107.100 /  6.107.100\n",
            "  libavresample   3.  7.  0 /  3.  7.  0\n",
            "  libswscale      4.  8.100 /  4.  8.100\n",
            "  libswresample   2.  9.100 /  2.  9.100\n",
            "  libpostproc    54.  7.100 / 54.  7.100\n",
            "Input #0, image2, from '%d.png':\n",
            "  Duration: 00:00:20.00, start: 0.000000, bitrate: N/A\n",
            "    Stream #0:0: Video: png, rgba(pc), 2100x1200 [SAR 11811:11811 DAR 7:4], 5 fps, 5 tbr, 5 tbn, 5 tbc\n",
            "Stream mapping:\n",
            "  Stream #0:0 -> #0:0 (png (native) -> h264 (libx264))\n",
            "Press [q] to stop, [?] for help\n",
            "[libx264 @ 0x558ec1fdbe00] using SAR=1/1\n",
            "[libx264 @ 0x558ec1fdbe00] using cpu capabilities: MMX2 SSE2Fast SSSE3 SSE4.2 AVX FMA3 BMI2 AVX2\n",
            "[libx264 @ 0x558ec1fdbe00] profile High 4:4:4 Predictive, level 5.0, 4:4:4 8-bit\n",
            "[libx264 @ 0x558ec1fdbe00] 264 - core 152 r2854 e9a5903 - H.264/MPEG-4 AVC codec - Copyleft 2003-2017 - http://www.videolan.org/x264.html - options: cabac=1 ref=3 deblock=1:0:0 analyse=0x1:0x111 me=hex subme=7 psy=1 psy_rd=1.00:0.00 mixed_ref=1 me_range=16 chroma_me=1 trellis=1 8x8dct=0 cqm=0 deadzone=21,11 fast_pskip=1 chroma_qp_offset=4 threads=3 lookahead_threads=1 sliced_threads=0 nr=0 decimate=1 interlaced=0 bluray_compat=0 constrained_intra=0 bframes=3 b_pyramid=2 b_adapt=1 b_bias=0 direct=1 weightb=1 open_gop=0 weightp=2 keyint=250 keyint_min=25 scenecut=40 intra_refresh=0 rc_lookahead=40 rc=crf mbtree=1 crf=23.0 qcomp=0.60 qpmin=0 qpmax=69 qpstep=4 ip_ratio=1.40 aq=1:1.00\n",
            "Output #0, mp4, to 'recession.mp4':\n",
            "  Metadata:\n",
            "    encoder         : Lavf57.83.100\n",
            "    Stream #0:0: Video: h264 (libx264) (avc1 / 0x31637661), yuv444p, 2100x1200 [SAR 1:1 DAR 7:4], q=-1--1, 30 fps, 15360 tbn, 30 tbc\n",
            "    Metadata:\n",
            "      encoder         : Lavc57.107.100 libx264\n",
            "    Side data:\n",
            "      cpb: bitrate max/min/avg: 0/0/0 buffer size: 0 vbv_delay: -1\n",
            "frame=   36 fps=0.0 q=0.0 size=       0kB time=00:00:00.00 bitrate=N/A dup=30 drop=0 speed=   0x    \rframe=   54 fps= 49 q=29.0 size=       0kB time=00:00:00.13 bitrate=   2.9kbits/s dup=45 drop=0 speed=0.121x    \rframe=   72 fps= 39 q=29.0 size=       0kB time=00:00:00.73 bitrate=   0.5kbits/s dup=60 drop=0 speed=0.395x    \rframe=   84 fps= 35 q=29.0 size=       0kB time=00:00:01.13 bitrate=   0.3kbits/s dup=70 drop=0 speed=0.474x    \rframe=   96 fps= 28 q=29.0 size=       0kB time=00:00:01.53 bitrate=   0.3kbits/s dup=80 drop=0 speed=0.455x    \rframe=  102 fps= 26 q=29.0 size=       0kB time=00:00:01.73 bitrate=   0.2kbits/s dup=85 drop=0 speed=0.438x    \rframe=  108 fps= 24 q=29.0 size=       0kB time=00:00:01.93 bitrate=   0.2kbits/s dup=90 drop=0 speed=0.427x    \rframe=  120 fps= 23 q=29.0 size=       0kB time=00:00:02.33 bitrate=   0.2kbits/s dup=100 drop=0 speed=0.454x    \rframe=  138 fps= 24 q=29.0 size=       0kB time=00:00:02.93 bitrate=   0.1kbits/s dup=115 drop=0 speed=0.505x    \rframe=  156 fps= 24 q=29.0 size=       0kB time=00:00:03.53 bitrate=   0.1kbits/s dup=130 drop=0 speed=0.542x    \rframe=  174 fps= 24 q=29.0 size=       0kB time=00:00:04.13 bitrate=   0.1kbits/s dup=145 drop=0 speed=0.574x    \rframe=  192 fps= 24 q=29.0 size=       0kB time=00:00:04.73 bitrate=   0.1kbits/s dup=160 drop=0 speed=0.598x    \rframe=  204 fps= 24 q=29.0 size=       0kB time=00:00:05.13 bitrate=   0.1kbits/s dup=170 drop=0 speed=0.609x    \rframe=  222 fps= 24 q=29.0 size=       0kB time=00:00:05.73 bitrate=   0.1kbits/s dup=185 drop=0 speed=0.624x    \rframe=  240 fps= 24 q=29.0 size=     256kB time=00:00:06.33 bitrate= 331.2kbits/s dup=200 drop=0 speed=0.638x    \rframe=  258 fps= 24 q=29.0 size=     256kB time=00:00:06.93 bitrate= 302.5kbits/s dup=215 drop=0 speed=0.654x    \rframe=  276 fps= 24 q=29.0 size=     256kB time=00:00:07.53 bitrate= 278.4kbits/s dup=230 drop=0 speed=0.666x    \rframe=  294 fps= 25 q=29.0 size=     256kB time=00:00:08.13 bitrate= 257.9kbits/s dup=245 drop=0 speed=0.68x    \rframe=  306 fps= 25 q=29.0 size=     256kB time=00:00:08.53 bitrate= 245.8kbits/s dup=255 drop=0 speed=0.683x    \rframe=  324 fps= 25 q=29.0 size=     256kB time=00:00:09.13 bitrate= 229.7kbits/s dup=270 drop=0 speed=0.697x    \rframe=  342 fps= 25 q=29.0 size=     256kB time=00:00:09.73 bitrate= 215.5kbits/s dup=285 drop=0 speed=0.71x    \rframe=  360 fps= 25 q=29.0 size=     256kB time=00:00:10.33 bitrate= 203.0kbits/s dup=300 drop=0 speed=0.721x    \rframe=  378 fps= 25 q=29.0 size=     256kB time=00:00:10.93 bitrate= 191.8kbits/s dup=315 drop=0 speed=0.732x    \rframe=  396 fps= 26 q=29.0 size=     256kB time=00:00:11.53 bitrate= 181.9kbits/s dup=330 drop=0 speed=0.743x    \rframe=  414 fps= 26 q=29.0 size=     256kB time=00:00:12.13 bitrate= 172.9kbits/s dup=345 drop=0 speed=0.751x    \rframe=  432 fps= 26 q=29.0 size=     256kB time=00:00:12.73 bitrate= 164.7kbits/s dup=360 drop=0 speed=0.759x    \rframe=  450 fps= 26 q=29.0 size=     256kB time=00:00:13.33 bitrate= 157.3kbits/s dup=375 drop=0 speed=0.767x    \rframe=  468 fps= 26 q=29.0 size=     256kB time=00:00:13.93 bitrate= 150.5kbits/s dup=390 drop=0 speed=0.776x    \rframe=  486 fps= 26 q=29.0 size=     256kB time=00:00:14.53 bitrate= 144.3kbits/s dup=405 drop=0 speed=0.782x    \rframe=  504 fps= 26 q=29.0 size=     256kB time=00:00:15.13 bitrate= 138.6kbits/s dup=420 drop=0 speed=0.788x    \rframe=  522 fps= 26 q=29.0 size=     256kB time=00:00:15.73 bitrate= 133.3kbits/s dup=435 drop=0 speed=0.794x    \rframe=  540 fps= 26 q=29.0 size=     256kB time=00:00:16.33 bitrate= 128.4kbits/s dup=450 drop=0 speed=0.801x    \rframe=  558 fps= 26 q=29.0 size=     256kB time=00:00:16.93 bitrate= 123.9kbits/s dup=465 drop=0 speed=0.802x    \rframe=  576 fps= 27 q=29.0 size=     256kB time=00:00:17.53 bitrate= 119.6kbits/s dup=480 drop=0 speed=0.808x    \rframe=  594 fps= 27 q=29.0 size=     256kB time=00:00:18.13 bitrate= 115.7kbits/s dup=495 drop=0 speed=0.815x    \rframe=  600 fps= 25 q=-1.0 Lsize=     512kB time=00:00:19.90 bitrate= 210.7kbits/s dup=500 drop=0 speed=0.845x    \n",
            "video:504kB audio:0kB subtitle:0kB other streams:0kB global headers:0kB muxing overhead: 1.557139%\n",
            "[libx264 @ 0x558ec1fdbe00] frame I:3     Avg QP: 9.75  size: 75005\n",
            "[libx264 @ 0x558ec1fdbe00] frame P:151   Avg QP:15.47  size:  1464\n",
            "[libx264 @ 0x558ec1fdbe00] frame B:446   Avg QP:13.77  size:   156\n",
            "[libx264 @ 0x558ec1fdbe00] consecutive B-frames:  0.8%  0.0%  0.5% 98.7%\n",
            "[libx264 @ 0x558ec1fdbe00] mb I  I16..4: 87.3%  0.0% 12.7%\n",
            "[libx264 @ 0x558ec1fdbe00] mb P  I16..4:  0.2%  0.0%  0.1%  P16..4:  0.5%  0.2%  0.1%  0.0%  0.0%    skip:99.0%\n",
            "[libx264 @ 0x558ec1fdbe00] mb B  I16..4:  0.0%  0.0%  0.0%  B16..8:  1.1%  0.0%  0.0%  direct: 0.0%  skip:98.9%  L0:69.4% L1:30.6% BI: 0.0%\n",
            "[libx264 @ 0x558ec1fdbe00] coded y,u,v intra: 7.8% 4.6% 4.5% inter: 0.0% 0.0% 0.0%\n",
            "[libx264 @ 0x558ec1fdbe00] i16 v,h,dc,p: 94%  3%  2%  0%\n",
            "[libx264 @ 0x558ec1fdbe00] i4 v,h,dc,ddl,ddr,vr,hd,vl,hu: 34% 17% 28%  4%  3%  4%  3%  4%  3%\n",
            "[libx264 @ 0x558ec1fdbe00] Weighted P-Frames: Y:0.0% UV:0.0%\n",
            "[libx264 @ 0x558ec1fdbe00] ref P L0: 87.1%  3.4%  5.9%  3.7%\n",
            "[libx264 @ 0x558ec1fdbe00] ref B L0: 70.8% 29.0%  0.2%\n",
            "[libx264 @ 0x558ec1fdbe00] ref B L1: 99.9%  0.1%\n",
            "[libx264 @ 0x558ec1fdbe00] kb/s:206.21\n"
          ]
        }
      ]
    },
    {
      "cell_type": "markdown",
      "source": [
        "# download video "
      ],
      "metadata": {
        "id": "-n9QU-VgeSGq"
      }
    },
    {
      "cell_type": "code",
      "source": [
        "files.download('/content/wetted_map/recession.mp4')"
      ],
      "metadata": {
        "id": "NJ-o68Um30cf",
        "colab": {
          "base_uri": "https://localhost:8080/",
          "height": 17
        },
        "outputId": "c5d07c75-28bf-41f9-df7e-1e4dc7869ada"
      },
      "execution_count": 38,
      "outputs": [
        {
          "output_type": "display_data",
          "data": {
            "text/plain": [
              "<IPython.core.display.Javascript object>"
            ],
            "application/javascript": [
              "\n",
              "    async function download(id, filename, size) {\n",
              "      if (!google.colab.kernel.accessAllowed) {\n",
              "        return;\n",
              "      }\n",
              "      const div = document.createElement('div');\n",
              "      const label = document.createElement('label');\n",
              "      label.textContent = `Downloading \"${filename}\": `;\n",
              "      div.appendChild(label);\n",
              "      const progress = document.createElement('progress');\n",
              "      progress.max = size;\n",
              "      div.appendChild(progress);\n",
              "      document.body.appendChild(div);\n",
              "\n",
              "      const buffers = [];\n",
              "      let downloaded = 0;\n",
              "\n",
              "      const channel = await google.colab.kernel.comms.open(id);\n",
              "      // Send a message to notify the kernel that we're ready.\n",
              "      channel.send({})\n",
              "\n",
              "      for await (const message of channel.messages) {\n",
              "        // Send a message to notify the kernel that we're ready.\n",
              "        channel.send({})\n",
              "        if (message.buffers) {\n",
              "          for (const buffer of message.buffers) {\n",
              "            buffers.push(buffer);\n",
              "            downloaded += buffer.byteLength;\n",
              "            progress.value = downloaded;\n",
              "          }\n",
              "        }\n",
              "      }\n",
              "      const blob = new Blob(buffers, {type: 'application/binary'});\n",
              "      const a = document.createElement('a');\n",
              "      a.href = window.URL.createObjectURL(blob);\n",
              "      a.download = filename;\n",
              "      div.appendChild(a);\n",
              "      a.click();\n",
              "      div.remove();\n",
              "    }\n",
              "  "
            ]
          },
          "metadata": {}
        },
        {
          "output_type": "display_data",
          "data": {
            "text/plain": [
              "<IPython.core.display.Javascript object>"
            ],
            "application/javascript": [
              "download(\"download_b5d113e2-8cc4-483a-81cf-062faf836720\", \"recession.mp4\", 524241)"
            ]
          },
          "metadata": {}
        }
      ]
    },
    {
      "cell_type": "code",
      "source": [],
      "metadata": {
        "id": "bFGcM68kUtnN"
      },
      "execution_count": null,
      "outputs": []
    }
  ]
}